{
 "cells": [
  {
   "cell_type": "code",
   "execution_count": 20,
   "id": "6f8e8e17",
   "metadata": {},
   "outputs": [],
   "source": [
    "import requests\n",
    "import pandas as pd\n",
    "import yaml\n",
    "import duckdb"
   ]
  },
  {
   "cell_type": "code",
   "execution_count": 57,
   "id": "edd71518",
   "metadata": {},
   "outputs": [],
   "source": [
    "DB_PATH = 'weather.duckdb'\n",
    "TABLE_NAME = 'observations'\n",
    "\n",
    "con = duckdb.connect(DB_PATH)"
   ]
  },
  {
   "cell_type": "code",
   "execution_count": 58,
   "id": "c4b02d64",
   "metadata": {},
   "outputs": [
    {
     "data": {
      "text/html": [
       "<div>\n",
       "<style scoped>\n",
       "    .dataframe tbody tr th:only-of-type {\n",
       "        vertical-align: middle;\n",
       "    }\n",
       "\n",
       "    .dataframe tbody tr th {\n",
       "        vertical-align: top;\n",
       "    }\n",
       "\n",
       "    .dataframe thead th {\n",
       "        text-align: right;\n",
       "    }\n",
       "</style>\n",
       "<table border=\"1\" class=\"dataframe\">\n",
       "  <thead>\n",
       "    <tr style=\"text-align: right;\">\n",
       "      <th></th>\n",
       "      <th>cst_time</th>\n",
       "      <th>dailyrainin</th>\n",
       "    </tr>\n",
       "  </thead>\n",
       "  <tbody>\n",
       "    <tr>\n",
       "      <th>0</th>\n",
       "      <td>2025-07-13 09:42:00</td>\n",
       "      <td>4.067</td>\n",
       "    </tr>\n",
       "    <tr>\n",
       "      <th>1</th>\n",
       "      <td>2025-07-13 09:45:00</td>\n",
       "      <td>4.067</td>\n",
       "    </tr>\n",
       "    <tr>\n",
       "      <th>2</th>\n",
       "      <td>2025-07-13 09:46:00</td>\n",
       "      <td>4.067</td>\n",
       "    </tr>\n",
       "    <tr>\n",
       "      <th>3</th>\n",
       "      <td>2025-07-13 16:00:00</td>\n",
       "      <td>4.378</td>\n",
       "    </tr>\n",
       "    <tr>\n",
       "      <th>4</th>\n",
       "      <td>2025-07-13 16:00:00</td>\n",
       "      <td>4.378</td>\n",
       "    </tr>\n",
       "    <tr>\n",
       "      <th>...</th>\n",
       "      <td>...</td>\n",
       "      <td>...</td>\n",
       "    </tr>\n",
       "    <tr>\n",
       "      <th>198</th>\n",
       "      <td>2025-07-13 20:06:00</td>\n",
       "      <td>4.378</td>\n",
       "    </tr>\n",
       "    <tr>\n",
       "      <th>199</th>\n",
       "      <td>2025-07-13 20:07:00</td>\n",
       "      <td>4.378</td>\n",
       "    </tr>\n",
       "    <tr>\n",
       "      <th>200</th>\n",
       "      <td>2025-07-13 20:08:00</td>\n",
       "      <td>4.378</td>\n",
       "    </tr>\n",
       "    <tr>\n",
       "      <th>201</th>\n",
       "      <td>2025-07-13 16:28:00</td>\n",
       "      <td>4.378</td>\n",
       "    </tr>\n",
       "    <tr>\n",
       "      <th>202</th>\n",
       "      <td>2025-07-13 16:28:00</td>\n",
       "      <td>4.378</td>\n",
       "    </tr>\n",
       "  </tbody>\n",
       "</table>\n",
       "<p>203 rows × 2 columns</p>\n",
       "</div>"
      ],
      "text/plain": [
       "               cst_time  dailyrainin\n",
       "0   2025-07-13 09:42:00        4.067\n",
       "1   2025-07-13 09:45:00        4.067\n",
       "2   2025-07-13 09:46:00        4.067\n",
       "3   2025-07-13 16:00:00        4.378\n",
       "4   2025-07-13 16:00:00        4.378\n",
       "..                  ...          ...\n",
       "198 2025-07-13 20:06:00        4.378\n",
       "199 2025-07-13 20:07:00        4.378\n",
       "200 2025-07-13 20:08:00        4.378\n",
       "201 2025-07-13 16:28:00        4.378\n",
       "202 2025-07-13 16:28:00        4.378\n",
       "\n",
       "[203 rows x 2 columns]"
      ]
     },
     "execution_count": 58,
     "metadata": {},
     "output_type": "execute_result"
    }
   ],
   "source": [
    "df = con.sql(\"select date AT TIME ZONE 'UTC' AT TIME ZONE 'America/Chicago' AS cst_time, dailyrainin from observations\").df()\n",
    "df"
   ]
  },
  {
   "cell_type": "code",
   "execution_count": 63,
   "id": "516a3a31",
   "metadata": {},
   "outputs": [
    {
     "data": {
      "text/plain": [
       "[<matplotlib.lines.Line2D at 0x1af24b75950>]"
      ]
     },
     "execution_count": 63,
     "metadata": {},
     "output_type": "execute_result"
    },
    {
     "data": {
      "image/png": "[encoded data removed]",
      "text/plain": [
       "<Figure size 640x480 with 1 Axes>"
      ]
     },
     "metadata": {},
     "output_type": "display_data"
    }
   ],
   "source": [
    "import matplotlib.pyplot as plt\n",
    "con.close()\n",
    "plt.plot(df['cst_time'], df['dailyrainin'])"
   ]
  },
  {
   "cell_type": "code",
   "execution_count": 56,
   "id": "de2ba0b7",
   "metadata": {},
   "outputs": [
    {
     "data": {
      "text/plain": [
       "<bound method DataFrame.groupby of                cst_time  dailyrainin\n",
       "0   2025-07-13 09:42:00        4.067\n",
       "1   2025-07-13 09:45:00        4.067\n",
       "2   2025-07-13 09:46:00        4.067\n",
       "3   2025-07-13 16:00:00        4.378\n",
       "4   2025-07-13 16:00:00        4.378\n",
       "..                  ...          ...\n",
       "198 2025-07-13 20:06:00        4.378\n",
       "199 2025-07-13 20:07:00        4.378\n",
       "200 2025-07-13 20:08:00        4.378\n",
       "201 2025-07-13 16:28:00        4.378\n",
       "202 2025-07-13 16:28:00        4.378\n",
       "\n",
       "[203 rows x 2 columns]>"
      ]
     },
     "execution_count": 56,
     "metadata": {},
     "output_type": "execute_result"
    }
   ],
   "source": [
    "df.groupby"
   ]
  },
  {
   "cell_type": "code",
   "execution_count": 13,
   "id": "f02185ca",
   "metadata": {},
   "outputs": [
    {
     "data": {
      "image/png": "[encoded data removed]",
      "text/plain": [
       "<Figure size 300x200 with 1 Axes>"
      ]
     },
     "metadata": {},
     "output_type": "display_data"
    }
   ],
   "source": [
    "import matplotlib.pyplot as plt\n",
    "from PIL import Image, ImageDraw\n",
    "from io import BytesIO\n",
    "\n",
    "def plot_to_bw_pil():\n",
    "\tbuf = BytesIO()\n",
    "\twidth_px, height_px = 300, 200\n",
    "\tdpi = 100\n",
    "\tfig = plt.figure(figsize=(width_px / dpi, height_px / dpi), dpi=dpi)\n",
    "\n",
    "\tplt.scatter(df['tempf'], df['windspeedmph'])\n",
    "\tplt.tight_layout()\n",
    "\tplt.savefig(buf, format='png', bbox_inches='tight', dpi=100)\n",
    "\tbuf.seek(0)\n",
    "\timg = Image.open(buf).convert(\"L\")  # grayscale\n",
    "\tbw = img.point(lambda x: 0 if x < 128 else 255, '1')  # threshold to B/W\n",
    "\treturn bw\n",
    "\n",
    "# Create base image\n",
    "W, H = (800, 480)\n",
    "image = Image.new(\"1\", (W, H), 255)\n",
    "draw = ImageDraw.Draw(image)\n",
    "\n",
    "# Create plot image\n",
    "plot_img = plot_to_bw_pil()\n",
    "plot_img = plot_img.resize((300, 200))\n",
    "\n",
    "# Paste bottom right\n",
    "image.paste(plot_img, (W - plot_img.width, H - plot_img.height))\n",
    "\n",
    "image.show()\n"
   ]
  },
  {
   "cell_type": "code",
   "execution_count": null,
   "id": "9fd03587",
   "metadata": {},
   "outputs": [],
   "source": []
  }
 ],
 "metadata": {
  "kernelspec": {
   "display_name": "weather-bot",
   "language": "python",
   "name": "python3"
  },
  "language_info": {
   "codemirror_mode": {
    "name": "ipython",
    "version": 3
   },
   "file_extension": ".py",
   "mimetype": "text/x-python",
   "name": "python",
   "nbconvert_exporter": "python",
   "pygments_lexer": "ipython3",
   "version": "3.13.1"
  }
 },
 "nbformat": 4,
 "nbformat_minor": 5
}
