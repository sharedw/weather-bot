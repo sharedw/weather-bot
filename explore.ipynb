{
 "cells": [
  {
   "cell_type": "code",
   "execution_count": 1,
   "id": "6f8e8e17",
   "metadata": {},
   "outputs": [],
   "source": [
    "import requests\n",
    "import pandas as pd\n",
    "import yaml\n",
    "import duckdb"
   ]
  },
  {
   "cell_type": "code",
   "execution_count": 2,
   "id": "edd71518",
   "metadata": {},
   "outputs": [],
   "source": [
    "DB_PATH = 'weather.duckdb'\n",
    "TABLE_NAME = 'observations'\n",
    "\n",
    "con = duckdb.connect(DB_PATH)"
   ]
  },
  {
   "cell_type": "code",
   "execution_count": 4,
   "id": "c4b02d64",
   "metadata": {},
   "outputs": [
    {
     "data": {
      "text/html": [
       "<div>\n",
       "<style scoped>\n",
       "    .dataframe tbody tr th:only-of-type {\n",
       "        vertical-align: middle;\n",
       "    }\n",
       "\n",
       "    .dataframe tbody tr th {\n",
       "        vertical-align: top;\n",
       "    }\n",
       "\n",
       "    .dataframe thead th {\n",
       "        text-align: right;\n",
       "    }\n",
       "</style>\n",
       "<table border=\"1\" class=\"dataframe\">\n",
       "  <thead>\n",
       "    <tr style=\"text-align: right;\">\n",
       "      <th></th>\n",
       "      <th>dateutc</th>\n",
       "      <th>tempf</th>\n",
       "      <th>humidity</th>\n",
       "      <th>windspeedmph</th>\n",
       "      <th>windgustmph</th>\n",
       "      <th>maxdailygust</th>\n",
       "      <th>winddir</th>\n",
       "      <th>uv</th>\n",
       "      <th>solarradiation</th>\n",
       "      <th>hourlyrainin</th>\n",
       "      <th>...</th>\n",
       "      <th>dewPoint</th>\n",
       "      <th>feelsLikein</th>\n",
       "      <th>dewPointin</th>\n",
       "      <th>lastRain</th>\n",
       "      <th>tz</th>\n",
       "      <th>date</th>\n",
       "      <th>text</th>\n",
       "      <th>icon</th>\n",
       "      <th>code</th>\n",
       "      <th>alert</th>\n",
       "    </tr>\n",
       "  </thead>\n",
       "  <tbody>\n",
       "    <tr>\n",
       "      <th>1</th>\n",
       "      <td>1752417900000</td>\n",
       "      <td>69.4</td>\n",
       "      <td>99.0</td>\n",
       "      <td>0.0</td>\n",
       "      <td>0.0</td>\n",
       "      <td>10.29</td>\n",
       "      <td>233.0</td>\n",
       "      <td>0.0</td>\n",
       "      <td>61.76</td>\n",
       "      <td>0.0</td>\n",
       "      <td>...</td>\n",
       "      <td>69.11</td>\n",
       "      <td>72.0</td>\n",
       "      <td>53.0</td>\n",
       "      <td>2025-07-13 12:07:00</td>\n",
       "      <td>America/Chicago</td>\n",
       "      <td>2025-07-13 14:45:00</td>\n",
       "      <td>Partly cloudy</td>\n",
       "      <td>//cdn.weatherapi.com/weather/64x64/day/116.png</td>\n",
       "      <td>1003</td>\n",
       "      <td>Flood Watch issued July 13 at 12:46AM CDT unti...</td>\n",
       "    </tr>\n",
       "    <tr>\n",
       "      <th>0</th>\n",
       "      <td>1752417720000</td>\n",
       "      <td>69.4</td>\n",
       "      <td>99.0</td>\n",
       "      <td>0.0</td>\n",
       "      <td>0.0</td>\n",
       "      <td>10.29</td>\n",
       "      <td>237.0</td>\n",
       "      <td>0.0</td>\n",
       "      <td>58.94</td>\n",
       "      <td>0.0</td>\n",
       "      <td>...</td>\n",
       "      <td>69.11</td>\n",
       "      <td>72.6</td>\n",
       "      <td>53.4</td>\n",
       "      <td>2025-07-13 12:07:00</td>\n",
       "      <td>America/Chicago</td>\n",
       "      <td>2025-07-13 14:42:00</td>\n",
       "      <td>Partly cloudy</td>\n",
       "      <td>//cdn.weatherapi.com/weather/64x64/day/116.png</td>\n",
       "      <td>1003</td>\n",
       "      <td>Flood Watch issued July 13 at 12:46AM CDT unti...</td>\n",
       "    </tr>\n",
       "    <tr>\n",
       "      <th>11</th>\n",
       "      <td>1752442080000</td>\n",
       "      <td>74.8</td>\n",
       "      <td>99.0</td>\n",
       "      <td>0.0</td>\n",
       "      <td>0.0</td>\n",
       "      <td>10.29</td>\n",
       "      <td>232.0</td>\n",
       "      <td>1.0</td>\n",
       "      <td>128.22</td>\n",
       "      <td>0.0</td>\n",
       "      <td>...</td>\n",
       "      <td>74.50</td>\n",
       "      <td>73.4</td>\n",
       "      <td>54.6</td>\n",
       "      <td>2025-07-13 18:36:00</td>\n",
       "      <td>America/Chicago</td>\n",
       "      <td>2025-07-13 21:28:00</td>\n",
       "      <td>Partly cloudy</td>\n",
       "      <td>//cdn.weatherapi.com/weather/64x64/day/116.png</td>\n",
       "      <td>1003</td>\n",
       "      <td>Flood Warning issued July 13 at 7:11AM CDT unt...</td>\n",
       "    </tr>\n",
       "  </tbody>\n",
       "</table>\n",
       "<p>3 rows × 31 columns</p>\n",
       "</div>"
      ],
      "text/plain": [
       "          dateutc  tempf  humidity  windspeedmph  windgustmph  maxdailygust  \\\n",
       "1   1752417900000   69.4      99.0           0.0          0.0         10.29   \n",
       "0   1752417720000   69.4      99.0           0.0          0.0         10.29   \n",
       "11  1752442080000   74.8      99.0           0.0          0.0         10.29   \n",
       "\n",
       "    winddir   uv  solarradiation  hourlyrainin  ...  dewPoint  feelsLikein  \\\n",
       "1     233.0  0.0           61.76           0.0  ...     69.11         72.0   \n",
       "0     237.0  0.0           58.94           0.0  ...     69.11         72.6   \n",
       "11    232.0  1.0          128.22           0.0  ...     74.50         73.4   \n",
       "\n",
       "    dewPointin            lastRain               tz                date  \\\n",
       "1         53.0 2025-07-13 12:07:00  America/Chicago 2025-07-13 14:45:00   \n",
       "0         53.4 2025-07-13 12:07:00  America/Chicago 2025-07-13 14:42:00   \n",
       "11        54.6 2025-07-13 18:36:00  America/Chicago 2025-07-13 21:28:00   \n",
       "\n",
       "             text                                            icon  code  \\\n",
       "1   Partly cloudy  //cdn.weatherapi.com/weather/64x64/day/116.png  1003   \n",
       "0   Partly cloudy  //cdn.weatherapi.com/weather/64x64/day/116.png  1003   \n",
       "11  Partly cloudy  //cdn.weatherapi.com/weather/64x64/day/116.png  1003   \n",
       "\n",
       "                                                alert  \n",
       "1   Flood Watch issued July 13 at 12:46AM CDT unti...  \n",
       "0   Flood Watch issued July 13 at 12:46AM CDT unti...  \n",
       "11  Flood Warning issued July 13 at 7:11AM CDT unt...  \n",
       "\n",
       "[3 rows x 31 columns]"
      ]
     },
     "execution_count": 4,
     "metadata": {},
     "output_type": "execute_result"
    }
   ],
   "source": [
    "df = con.sql(\"select * from observations\").df()\n",
    "df.sample(3)"
   ]
  },
  {
   "cell_type": "code",
   "execution_count": 19,
   "id": "516a3a31",
   "metadata": {},
   "outputs": [
    {
     "data": {
      "text/plain": [
       "<matplotlib.collections.PathCollection at 0x1af1d514690>"
      ]
     },
     "execution_count": 19,
     "metadata": {},
     "output_type": "execute_result"
    },
    {
     "data": {
      "image/png": "[encoded data removed]",
      "text/plain": [
       "<Figure size 640x480 with 1 Axes>"
      ]
     },
     "metadata": {},
     "output_type": "display_data"
    }
   ],
   "source": [
    "import matplotlib.pyplot as plt\n",
    "con.close()\n",
    "plt.scatter(df['date'], df['eventrainin'])"
   ]
  },
  {
   "cell_type": "code",
   "execution_count": 13,
   "id": "f02185ca",
   "metadata": {},
   "outputs": [
    {
     "data": {
      "image/png": "[encoded data removed]",
      "text/plain": [
       "<Figure size 300x200 with 1 Axes>"
      ]
     },
     "metadata": {},
     "output_type": "display_data"
    }
   ],
   "source": [
    "import matplotlib.pyplot as plt\n",
    "from PIL import Image, ImageDraw\n",
    "from io import BytesIO\n",
    "\n",
    "def plot_to_bw_pil():\n",
    "\tbuf = BytesIO()\n",
    "\twidth_px, height_px = 300, 200\n",
    "\tdpi = 100\n",
    "\tfig = plt.figure(figsize=(width_px / dpi, height_px / dpi), dpi=dpi)\n",
    "\n",
    "\tplt.scatter(df['tempf'], df['windspeedmph'])\n",
    "\tplt.tight_layout()\n",
    "\tplt.savefig(buf, format='png', bbox_inches='tight', dpi=100)\n",
    "\tbuf.seek(0)\n",
    "\timg = Image.open(buf).convert(\"L\")  # grayscale\n",
    "\tbw = img.point(lambda x: 0 if x < 128 else 255, '1')  # threshold to B/W\n",
    "\treturn bw\n",
    "\n",
    "# Create base image\n",
    "W, H = (800, 480)\n",
    "image = Image.new(\"1\", (W, H), 255)\n",
    "draw = ImageDraw.Draw(image)\n",
    "\n",
    "# Create plot image\n",
    "plot_img = plot_to_bw_pil()\n",
    "plot_img = plot_img.resize((300, 200))\n",
    "\n",
    "# Paste bottom right\n",
    "image.paste(plot_img, (W - plot_img.width, H - plot_img.height))\n",
    "\n",
    "image.show()\n"
   ]
  },
  {
   "cell_type": "code",
   "execution_count": null,
   "id": "9fd03587",
   "metadata": {},
   "outputs": [],
   "source": []
  }
 ],
 "metadata": {
  "kernelspec": {
   "display_name": "weather-bot",
   "language": "python",
   "name": "python3"
  },
  "language_info": {
   "codemirror_mode": {
    "name": "ipython",
    "version": 3
   },
   "file_extension": ".py",
   "mimetype": "text/x-python",
   "name": "python",
   "nbconvert_exporter": "python",
   "pygments_lexer": "ipython3",
   "version": "3.13.1"
  }
 },
 "nbformat": 4,
 "nbformat_minor": 5
}
