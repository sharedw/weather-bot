{
 "cells": [
  {
   "cell_type": "code",
   "execution_count": 1,
   "id": "6f8e8e17",
   "metadata": {},
   "outputs": [],
   "source": [
    "import requests\n",
    "import pandas as pd\n",
    "import yaml\n",
    "import duckdb"
   ]
  },
  {
   "cell_type": "code",
   "execution_count": 2,
   "id": "edd71518",
   "metadata": {},
   "outputs": [],
   "source": [
    "DB_PATH = 'weather.duckdb'\n",
    "TABLE_NAME = 'observations'\n"
   ]
  },
  {
   "cell_type": "markdown",
   "id": "5504fec6",
   "metadata": {},
   "source": []
  },
  {
   "cell_type": "code",
   "execution_count": 3,
   "id": "c4b02d64",
   "metadata": {},
   "outputs": [
    {
     "data": {
      "text/html": [
       "<div>\n",
       "<style scoped>\n",
       "    .dataframe tbody tr th:only-of-type {\n",
       "        vertical-align: middle;\n",
       "    }\n",
       "\n",
       "    .dataframe tbody tr th {\n",
       "        vertical-align: top;\n",
       "    }\n",
       "\n",
       "    .dataframe thead th {\n",
       "        text-align: right;\n",
       "    }\n",
       "</style>\n",
       "<table border=\"1\" class=\"dataframe\">\n",
       "  <thead>\n",
       "    <tr style=\"text-align: right;\">\n",
       "      <th></th>\n",
       "      <th>cst_time</th>\n",
       "      <th>tempf</th>\n",
       "    </tr>\n",
       "  </thead>\n",
       "  <tbody>\n",
       "    <tr>\n",
       "      <th>0</th>\n",
       "      <td>2025-07-27 08:43:00</td>\n",
       "      <td>81.1</td>\n",
       "    </tr>\n",
       "    <tr>\n",
       "      <th>1</th>\n",
       "      <td>2025-07-27 08:56:00</td>\n",
       "      <td>81.5</td>\n",
       "    </tr>\n",
       "    <tr>\n",
       "      <th>2</th>\n",
       "      <td>2025-07-27 09:05:00</td>\n",
       "      <td>82.2</td>\n",
       "    </tr>\n",
       "    <tr>\n",
       "      <th>3</th>\n",
       "      <td>2025-07-27 16:34:00</td>\n",
       "      <td>96.1</td>\n",
       "    </tr>\n",
       "    <tr>\n",
       "      <th>4</th>\n",
       "      <td>2025-08-02 19:22:00</td>\n",
       "      <td>85.1</td>\n",
       "    </tr>\n",
       "    <tr>\n",
       "      <th>...</th>\n",
       "      <td>...</td>\n",
       "      <td>...</td>\n",
       "    </tr>\n",
       "    <tr>\n",
       "      <th>664</th>\n",
       "      <td>2025-08-03 08:07:00</td>\n",
       "      <td>74.3</td>\n",
       "    </tr>\n",
       "    <tr>\n",
       "      <th>665</th>\n",
       "      <td>2025-08-03 08:08:00</td>\n",
       "      <td>74.8</td>\n",
       "    </tr>\n",
       "    <tr>\n",
       "      <th>666</th>\n",
       "      <td>2025-08-03 08:31:00</td>\n",
       "      <td>78.1</td>\n",
       "    </tr>\n",
       "    <tr>\n",
       "      <th>667</th>\n",
       "      <td>2025-08-03 08:32:00</td>\n",
       "      <td>77.9</td>\n",
       "    </tr>\n",
       "    <tr>\n",
       "      <th>668</th>\n",
       "      <td>2025-08-03 08:48:00</td>\n",
       "      <td>78.4</td>\n",
       "    </tr>\n",
       "  </tbody>\n",
       "</table>\n",
       "<p>669 rows × 2 columns</p>\n",
       "</div>"
      ],
      "text/plain": [
       "               cst_time  tempf\n",
       "0   2025-07-27 08:43:00   81.1\n",
       "1   2025-07-27 08:56:00   81.5\n",
       "2   2025-07-27 09:05:00   82.2\n",
       "3   2025-07-27 16:34:00   96.1\n",
       "4   2025-08-02 19:22:00   85.1\n",
       "..                  ...    ...\n",
       "664 2025-08-03 08:07:00   74.3\n",
       "665 2025-08-03 08:08:00   74.8\n",
       "666 2025-08-03 08:31:00   78.1\n",
       "667 2025-08-03 08:32:00   77.9\n",
       "668 2025-08-03 08:48:00   78.4\n",
       "\n",
       "[669 rows x 2 columns]"
      ]
     },
     "execution_count": 3,
     "metadata": {},
     "output_type": "execute_result"
    }
   ],
   "source": [
    "var = 'tempf'\n",
    "con = duckdb.connect(DB_PATH)\n",
    "df = con.sql(f\"\"\"select date AT TIME ZONE 'UTC' AT TIME ZONE 'America/Chicago' AS cst_time,\n",
    "              {var} from observations \n",
    "              where date >= CURRENT_DATE - INTERVAL 7 DAY\"\"\").df()\n",
    "con.close()\n",
    "df"
   ]
  },
  {
   "cell_type": "code",
   "execution_count": 6,
   "id": "fe2bec3c",
   "metadata": {},
   "outputs": [
    {
     "data": {
      "image/png": "[encoded data removed]",
      "text/plain": [
       "<Figure size 451.5x322.5 with 1 Axes>"
      ]
     },
     "metadata": {
      "needs_background": "light"
     },
     "output_type": "display_data"
    }
   ],
   "source": [
    "import matplotlib.pyplot as plt\n",
    "import matplotlib.dates as mdates\n",
    "\n",
    "df['mov'] = df[var].rolling(1).mean()\n",
    "dpi = 129\n",
    "figsize = (3.5, 2.5)\n",
    "\n",
    "fig, ax = plt.subplots(figsize=figsize, dpi=dpi)\n",
    "\n",
    "\n",
    "fig.patch.set_alpha(0.0)       # Transparent figure background\n",
    "ax.set_facecolor('none')       # Transparent plot background\n",
    "\n",
    "unique_days = df['cst_time'].dt.normalize().drop_duplicates()\n",
    "plt.xticks(unique_days, unique_days.dt.strftime('%a'), rotation=0, fontsize=12, fontweight='bold')\n",
    "plt.xlim(unique_days.min(), unique_days.max())\n",
    "plt.yticks(rotation=0, fontsize=13, fontweight='bold', fontname='DejaVu Sans Mono')\n",
    "ax.set_ylabel('Temp', fontsize=14, fontweight='bold')\n",
    "ax.spines['top'].set_visible(False)\n",
    "ax.spines['right'].set_visible(False)\n",
    "ax.plot(df['cst_time'], df['mov'], color='black', linewidth=3)\n",
    "#ax.plot(df['cst_time'], df[var])\n",
    "\n",
    "\n",
    "plt.tight_layout()\n",
    "plt.savefig(\"plots/temperature.png\", dpi=129, bbox_inches='tight')"
   ]
  },
  {
   "cell_type": "code",
   "execution_count": 26,
   "id": "516a3a31",
   "metadata": {},
   "outputs": [
    {
     "data": {
      "image/png": "[encoded data removed]",
      "text/plain": [
       "<Figure size 451.5x322.5 with 1 Axes>"
      ]
     },
     "metadata": {
      "needs_background": "light"
     },
     "output_type": "display_data"
    }
   ],
   "source": [
    "import matplotlib.pyplot as plt\n",
    "import matplotlib.dates as mdates\n",
    "\n",
    "\n",
    "\n",
    "df['mov'] = df[var].rolling(1).mean()\n",
    "width, height = 400, 400\n",
    "dpi = 129\n",
    "figsize = (3.5, 2.5)\n",
    "\n",
    "fig, ax = plt.subplots(figsize=figsize, dpi=dpi)\n",
    "\n",
    "fig.patch.set_alpha(0.0)       # Transparent figure background\n",
    "ax.set_facecolor('none')       # Transparent plot background\n",
    "\n",
    "plt.xticks(rotation=0, fontsize=10, fontweight='bold')\n",
    "plt.yticks(rotation=0, fontsize=12, fontweight='bold')\n",
    "\n",
    "ax.set_ylabel('Rain', fontsize=14, fontweight='bold')\n",
    "\n",
    "ax.plot(df['cst_time'], df['mov'], color='black', linewidth=3)\n",
    "#ax.plot(df['cst_time'], df[var])\n",
    "\n",
    "myFmt = mdates.DateFormatter(\"%#I %p\")  # 12-hour format with AM/PM\n",
    "#ax.xaxis.set_major_locator(mdates.HourLocator(interval=6))\n",
    "ax.xaxis.set_major_formatter(myFmt)  # apply formatter to x-axis\n",
    "\n",
    "plt.tight_layout()\n",
    "plt.savefig(\"plots/rain.png\", dpi=129, bbox_inches='tight')\n",
    "plt.show()\n"
   ]
  },
  {
   "cell_type": "code",
   "execution_count": 15,
   "id": "de2ba0b7",
   "metadata": {},
   "outputs": [
    {
     "data": {
      "text/plain": [
       "<bound method DataFrame.groupby of                cst_time  monthlyrainin     mov\n",
       "0   2025-07-27 08:43:00         19.492  19.492\n",
       "1   2025-07-27 08:56:00         19.492  19.492\n",
       "2   2025-07-27 09:05:00         19.492  19.492\n",
       "3   2025-07-27 16:34:00         19.492  19.492\n",
       "4   2025-08-02 19:22:00          0.110   0.110\n",
       "..                  ...            ...     ...\n",
       "663 2025-08-03 08:05:00          0.110   0.110\n",
       "664 2025-08-03 08:07:00          0.110   0.110\n",
       "665 2025-08-03 08:08:00          0.110   0.110\n",
       "666 2025-08-03 08:31:00          0.118   0.118\n",
       "667 2025-08-03 08:32:00          0.118   0.118\n",
       "\n",
       "[668 rows x 3 columns]>"
      ]
     },
     "execution_count": 15,
     "metadata": {},
     "output_type": "execute_result"
    }
   ],
   "source": [
    "df.groupby"
   ]
  },
  {
   "cell_type": "code",
   "execution_count": 13,
   "id": "f02185ca",
   "metadata": {},
   "outputs": [
    {
     "data": {
      "image/png": "[encoded data removed]",
      "text/plain": [
       "<Figure size 300x200 with 1 Axes>"
      ]
     },
     "metadata": {},
     "output_type": "display_data"
    }
   ],
   "source": [
    "import matplotlib.pyplot as plt\n",
    "from PIL import Image, ImageDraw\n",
    "from io import BytesIO\n",
    "\n",
    "def plot_to_bw_pil():\n",
    "\tbuf = BytesIO()\n",
    "\twidth_px, height_px = 300, 200\n",
    "\tdpi = 100\n",
    "\tfig = plt.figure(figsize=(width_px / dpi, height_px / dpi), dpi=dpi)\n",
    "\n",
    "\tplt.scatter(df['tempf'], df['windspeedmph'])\n",
    "\tplt.tight_layout()\n",
    "\tplt.savefig(buf, format='png', bbox_inches='tight', dpi=100)\n",
    "\tbuf.seek(0)\n",
    "\timg = Image.open(buf).convert(\"L\")  # grayscale\n",
    "\tbw = img.point(lambda x: 0 if x < 128 else 255, '1')  # threshold to B/W\n",
    "\treturn bw\n",
    "\n",
    "# Create base image\n",
    "W, H = (800, 480)\n",
    "image = Image.new(\"1\", (W, H), 255)\n",
    "draw = ImageDraw.Draw(image)\n",
    "\n",
    "# Create plot image\n",
    "plot_img = plot_to_bw_pil()\n",
    "plot_img = plot_img.resize((300, 200))\n",
    "\n",
    "# Paste bottom right\n",
    "image.paste(plot_img, (W - plot_img.width, H - plot_img.height))\n",
    "\n",
    "image.show()\n"
   ]
  },
  {
   "cell_type": "code",
   "execution_count": null,
   "id": "9fd03587",
   "metadata": {},
   "outputs": [],
   "source": []
  }
 ],
 "metadata": {
  "kernelspec": {
   "display_name": "weather-bot",
   "language": "python",
   "name": "python3"
  },
  "language_info": {
   "codemirror_mode": {
    "name": "ipython",
    "version": 3
   },
   "file_extension": ".py",
   "mimetype": "text/x-python",
   "name": "python",
   "nbconvert_exporter": "python",
   "pygments_lexer": "ipython3",
   "version": "3.13.1"
  }
 },
 "nbformat": 4,
 "nbformat_minor": 5
}
